{
 "cells": [
  {
   "cell_type": "markdown",
   "id": "3ea2957a",
   "metadata": {},
   "source": [
    "# Algothon - Data Exploration "
   ]
  },
  {
   "cell_type": "code",
   "execution_count": 9,
   "id": "2f7351a6",
   "metadata": {},
   "outputs": [],
   "source": [
    "import pandas as pd\n",
    "\n",
    "# Read file\n",
    "with open(\"prices.txt\", \"r\") as f:\n",
    "    rows = [line.strip().split() for line in f]\n",
    "\n",
    "# Convert to DataFrame\n",
    "df = pd.DataFrame(rows, dtype=float)\n",
    "\n",
    "df.columns = [f\"Instrument_{i+1}\" for i in range(df.shape[1])]\n",
    "\n",
    "df.shape\n",
    "df.to_csv('prices.csv', index=False)\n",
    "\n"
   ]
  }
 ],
 "metadata": {
  "kernelspec": {
   "display_name": "fit3181",
   "language": "python",
   "name": "python3"
  },
  "language_info": {
   "codemirror_mode": {
    "name": "ipython",
    "version": 3
   },
   "file_extension": ".py",
   "mimetype": "text/x-python",
   "name": "python",
   "nbconvert_exporter": "python",
   "pygments_lexer": "ipython3",
   "version": "3.12.6"
  }
 },
 "nbformat": 4,
 "nbformat_minor": 5
}
